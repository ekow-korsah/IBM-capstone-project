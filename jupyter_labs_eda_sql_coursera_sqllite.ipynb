{
  "cells": [
    {
      "cell_type": "markdown",
      "metadata": {
        "id": "62f5e5fc-c21f-4a5b-8e79-5ad7c2c32331"
      },
      "source": [
        "<p style=\"text-align:center\">\n",
        "    <a href=\"https://skills.network/?utm_medium=Exinfluencer&utm_source=Exinfluencer&utm_content=000026UJ&utm_term=10006555&utm_id=NA-SkillsNetwork-Channel-SkillsNetworkCoursesIBMDS0321ENSkillsNetwork865-2022-01-01\" target=\"_blank\">\n",
        "    <img src=\"https://cf-courses-data.s3.us.cloud-object-storage.appdomain.cloud/assets/logos/SN_web_lightmode.png\" width=\"200\" alt=\"Skills Network Logo\"  />\n",
        "    </a>\n",
        "</p>\n",
        "\n",
        "<h1 align=center><font size = 5>Assignment: SQL Notebook for Peer Assignment</font></h1>\n",
        "\n",
        "Estimated time needed: **60** minutes.\n",
        "\n",
        "## Introduction\n",
        "Using this Python notebook you will:\n",
        "\n",
        "1.  Understand the Spacex DataSet\n",
        "2.  Load the dataset  into the corresponding table in a Db2 database\n",
        "3.  Execute SQL queries to answer assignment questions \n"
      ]
    },
    {
      "cell_type": "markdown",
      "metadata": {
        "id": "28b87e78-66b4-42a6-bc76-a8c3e9122b81"
      },
      "source": [
        "## Overview of the DataSet\n",
        "\n",
        "SpaceX has gained worldwide attention for a series of historic milestones. \n",
        "\n",
        "It is the only private company ever to return a spacecraft from low-earth orbit, which it first accomplished in December 2010.\n",
        "SpaceX advertises Falcon 9 rocket launches on its website with a cost of 62 million dollars wheras other providers cost upward of 165 million dollars each, much of the savings is because Space X can reuse the first stage. \n",
        "\n",
        "\n",
        "Therefore if we can determine if the first stage will land, we can determine the cost of a launch. \n",
        "\n",
        "This information can be used if an alternate company wants to bid against SpaceX for a rocket launch.\n",
        "\n",
        "This dataset includes a record for each payload carried during a SpaceX mission into outer space.\n"
      ]
    },
    {
      "cell_type": "markdown",
      "metadata": {
        "id": "ffe8c135-38dc-4e01-9956-5f5bc504f285"
      },
      "source": [
        "### Download the datasets\n",
        "\n",
        "This assignment requires you to load the spacex dataset.\n",
        "\n",
        "In many cases the dataset to be analyzed is available as a .CSV (comma separated values) file, perhaps on the internet. Click on the link below to download and save the dataset (.CSV file):\n",
        "\n",
        " <a href=\"https://cf-courses-data.s3.us.cloud-object-storage.appdomain.cloud/IBM-DS0321EN-SkillsNetwork/labs/module_2/data/Spacex.csv\" target=\"_blank\">Spacex DataSet</a>\n",
        "\n"
      ]
    },
    {
      "cell_type": "code",
      "metadata": {
        "colab": {
          "base_uri": "https://localhost:8080/"
        },
        "id": "c00de771-8c83-4dc5-8592-fa6178faeeae",
        "outputId": "265a3b18-2233-454a-d18b-4a352ed80dab"
      },
      "outputs": [
        {
          "output_type": "stream",
          "name": "stdout",
          "text": [
            "Looking in indexes: https://pypi.org/simple, https://us-python.pkg.dev/colab-wheels/public/simple/\n",
            "Collecting sqlalchemy==1.3.9\n",
            "  Downloading SQLAlchemy-1.3.9.tar.gz (6.0 MB)\n",
            "\u001b[2K     \u001b[90m━━━━━━━━━━━━━━━━━━━━━━━━━━━━━━━━━━━━━━━━\u001b[0m \u001b[32m6.0/6.0 MB\u001b[0m \u001b[31m30.5 MB/s\u001b[0m eta \u001b[36m0:00:00\u001b[0m\n",
            "\u001b[?25h  Preparing metadata (setup.py) ... \u001b[?25l\u001b[?25hdone\n",
            "Building wheels for collected packages: sqlalchemy\n",
            "  Building wheel for sqlalchemy (setup.py) ... \u001b[?25l\u001b[?25hdone\n",
            "  Created wheel for sqlalchemy: filename=SQLAlchemy-1.3.9-cp39-cp39-linux_x86_64.whl size=1207205 sha256=c7ecce89aa3f20da0fbd84c196086cfa72ffa87055e7236c00822e8a68d865f9\n",
            "  Stored in directory: /root/.cache/pip/wheels/5b/43/0d/de1699809f9e6aaa54a97275298fa07075cb19acc557b18955\n",
            "Successfully built sqlalchemy\n",
            "Installing collected packages: sqlalchemy\n",
            "  Attempting uninstall: sqlalchemy\n",
            "    Found existing installation: SQLAlchemy 1.4.47\n",
            "    Uninstalling SQLAlchemy-1.4.47:\n",
            "      Successfully uninstalled SQLAlchemy-1.4.47\n",
            "Successfully installed sqlalchemy-1.3.9\n"
          ]
        }
      ],
      "source": [
        "!pip install sqlalchemy==1.3.9\n"
      ],
      "execution_count": null
    },
    {
      "cell_type": "markdown",
      "metadata": {
        "id": "21bfcb4f-176e-40d8-a398-4de8fd56d2f3"
      },
      "source": [
        "### Connect to the database\n",
        "\n",
        "Let us first load the SQL extension and establish a connection with the database\n"
      ]
    },
    {
      "cell_type": "code",
      "metadata": {
        "id": "fcb6ec57-e566-49bc-921f-83c4fa2046d0"
      },
      "outputs": [],
      "source": [
        "%load_ext sql"
      ],
      "execution_count": null
    },
    {
      "cell_type": "code",
      "metadata": {
        "id": "6e472564-b81a-4ab7-9f81-8a887f99e46f"
      },
      "outputs": [],
      "source": [
        "import csv, sqlite3\n",
        "\n",
        "con = sqlite3.connect(\"my_data1.db\")\n",
        "cur = con.cursor()"
      ],
      "execution_count": null
    },
    {
      "cell_type": "code",
      "metadata": {
        "id": "a39f4990-90f3-4b4b-bc2c-c2c7f031e355"
      },
      "outputs": [],
      "source": [
        "!pip install -q pandas==1.1.5"
      ],
      "execution_count": null
    },
    {
      "cell_type": "code",
      "metadata": {
        "id": "6c405952-7668-42cd-8f1d-359b527d0575"
      },
      "outputs": [],
      "source": [
        "%sql sqlite:///my_data1.db"
      ],
      "execution_count": null
    },
    {
      "cell_type": "code",
      "metadata": {
        "colab": {
          "base_uri": "https://localhost:8080/"
        },
        "id": "2717bc34-beac-4bd7-a89e-c4a41e8157f8",
        "outputId": "2905d441-c7be-4e4d-8d87-05eb59f6a68e"
      },
      "outputs": [
        {
          "output_type": "execute_result",
          "data": {
            "text/plain": [
              "101"
            ]
          },
          "metadata": {},
          "execution_count": 7
        }
      ],
      "source": [
        "import pandas as pd\n",
        "df = pd.read_csv(\"https://cf-courses-data.s3.us.cloud-object-storage.appdomain.cloud/IBM-DS0321EN-SkillsNetwork/labs/module_2/data/Spacex.csv\")\n",
        "df.to_sql(\"SPACEXTBL\", con, if_exists='replace', index=False,method=\"multi\")"
      ],
      "execution_count": null
    },
    {
      "cell_type": "markdown",
      "metadata": {
        "id": "aeb3df77-52db-4f77-90a0-bbf6760b1125"
      },
      "source": [
        "## Tasks\n",
        "\n",
        "Now write and execute SQL queries to solve the assignment tasks.\n",
        "\n",
        "**Note: If the column names are in mixed case enclose it in double quotes\n",
        "   For Example \"Landing_Outcome\"**\n",
        "\n",
        "### Task 1\n",
        "\n",
        "\n",
        "\n",
        "\n",
        "##### Display the names of the unique launch sites  in the space mission\n"
      ]
    },
    {
      "cell_type": "code",
      "metadata": {
        "colab": {
          "base_uri": "https://localhost:8080/"
        },
        "id": "064f242f-3e91-4990-9f3c-131f1f60cec3",
        "outputId": "dc3c20c2-59dd-4cc2-d764-14dee6dbc8a1"
      },
      "outputs": [
        {
          "output_type": "stream",
          "name": "stdout",
          "text": [
            " * sqlite:///my_data1.db\n",
            "(sqlite3.OperationalError) no such table: SYSCAT.TABLES\n",
            "[SQL: SELECT TABSCHEMA, TABNAME, CREATE_TIME FROM SYSCAT.TABLES WHERE TABSCHEMA='XCG80731';]\n",
            "(Background on this error at: http://sqlalche.me/e/e3q8)\n"
          ]
        }
      ],
      "source": [
        "%sql SELECT TABSCHEMA, TABNAME, CREATE_TIME FROM SYSCAT.TABLES WHERE TABSCHEMA='XCG80731';"
      ],
      "execution_count": null
    },
    {
      "cell_type": "code",
      "source": [
        "%%sql\n",
        "SELECT DISTINCT LAUNCH_SITE\n",
        "FROM SPACEXTBL;"
      ],
      "metadata": {
        "colab": {
          "base_uri": "https://localhost:8080/",
          "height": 158
        },
        "id": "f4B0jsC-Nn74",
        "outputId": "21ad07c9-2e77-4997-fda8-1e1832afd109"
      },
      "execution_count": null,
      "outputs": [
        {
          "output_type": "stream",
          "name": "stdout",
          "text": [
            " * sqlite:///my_data1.db\n",
            "Done.\n"
          ]
        },
        {
          "output_type": "execute_result",
          "data": {
            "text/plain": [
              "[('CCAFS LC-40',), ('VAFB SLC-4E',), ('KSC LC-39A',), ('CCAFS SLC-40',)]"
            ],
            "text/html": [
              "<table>\n",
              "    <tr>\n",
              "        <th>Launch_Site</th>\n",
              "    </tr>\n",
              "    <tr>\n",
              "        <td>CCAFS LC-40</td>\n",
              "    </tr>\n",
              "    <tr>\n",
              "        <td>VAFB SLC-4E</td>\n",
              "    </tr>\n",
              "    <tr>\n",
              "        <td>KSC LC-39A</td>\n",
              "    </tr>\n",
              "    <tr>\n",
              "        <td>CCAFS SLC-40</td>\n",
              "    </tr>\n",
              "</table>"
            ]
          },
          "metadata": {},
          "execution_count": 9
        }
      ]
    },
    {
      "cell_type": "markdown",
      "metadata": {
        "id": "6ad3ca6d-02c4-47cc-bcb6-b2f375e29f14"
      },
      "source": [
        "\n",
        "### Task 2\n",
        "\n",
        "\n",
        "#####  Display 5 records where launch sites begin with the string 'CCA' \n"
      ]
    },
    {
      "cell_type": "code",
      "metadata": {
        "colab": {
          "base_uri": "https://localhost:8080/",
          "height": 179
        },
        "id": "c8b96954-f622-40f1-afa5-d242dd0151b4",
        "outputId": "9fe92edf-4b95-4e2d-acd9-58681e186e92"
      },
      "outputs": [
        {
          "output_type": "stream",
          "name": "stdout",
          "text": [
            " * sqlite:///my_data1.db\n",
            "Done.\n"
          ]
        },
        {
          "output_type": "execute_result",
          "data": {
            "text/plain": [
              "[('CCAFS LC-40',),\n",
              " ('CCAFS LC-40',),\n",
              " ('CCAFS LC-40',),\n",
              " ('CCAFS LC-40',),\n",
              " ('CCAFS LC-40',)]"
            ],
            "text/html": [
              "<table>\n",
              "    <tr>\n",
              "        <th>Launch_Site</th>\n",
              "    </tr>\n",
              "    <tr>\n",
              "        <td>CCAFS LC-40</td>\n",
              "    </tr>\n",
              "    <tr>\n",
              "        <td>CCAFS LC-40</td>\n",
              "    </tr>\n",
              "    <tr>\n",
              "        <td>CCAFS LC-40</td>\n",
              "    </tr>\n",
              "    <tr>\n",
              "        <td>CCAFS LC-40</td>\n",
              "    </tr>\n",
              "    <tr>\n",
              "        <td>CCAFS LC-40</td>\n",
              "    </tr>\n",
              "</table>"
            ]
          },
          "metadata": {},
          "execution_count": 10
        }
      ],
      "source": [
        "%%sql\n",
        "SELECT LAUNCH_SITE\n",
        "FROM SPACEXTBL\n",
        "WHERE LAUNCH_SITE LIKE 'CCA%'\n",
        "LIMIT 5;"
      ],
      "execution_count": null
    },
    {
      "cell_type": "markdown",
      "metadata": {
        "id": "a1245fe9-e9c7-4d3f-8e39-5f0763511ab0"
      },
      "source": [
        "### Task 3\n",
        "\n",
        "\n",
        "\n",
        "\n",
        "##### Display the total payload mass carried by boosters launched by NASA (CRS)\n"
      ]
    },
    {
      "cell_type": "code",
      "metadata": {
        "colab": {
          "base_uri": "https://localhost:8080/",
          "height": 95
        },
        "id": "bca5e349-bd05-4ace-b1c8-9eeea1b46a32",
        "outputId": "13e27f53-80e0-470f-d1c7-0679eb114bd9"
      },
      "outputs": [
        {
          "output_type": "stream",
          "name": "stdout",
          "text": [
            " * sqlite:///my_data1.db\n",
            "Done.\n"
          ]
        },
        {
          "output_type": "execute_result",
          "data": {
            "text/plain": [
              "[(45596,)]"
            ],
            "text/html": [
              "<table>\n",
              "    <tr>\n",
              "        <th>sum(PAYLOAD_MASS__KG_)</th>\n",
              "    </tr>\n",
              "    <tr>\n",
              "        <td>45596</td>\n",
              "    </tr>\n",
              "</table>"
            ]
          },
          "metadata": {},
          "execution_count": 11
        }
      ],
      "source": [
        "%%sql\n",
        "SELECT sum(PAYLOAD_MASS__KG_) FROM SPACEXTBL WHERE Customer = 'NASA (CRS)'"
      ],
      "execution_count": null
    },
    {
      "cell_type": "markdown",
      "metadata": {
        "id": "68009afe-0c04-408b-a3ea-fccb5a4c2a85"
      },
      "source": [
        "### Task 4\n",
        "\n",
        "\n",
        "\n",
        "\n",
        "##### Display average payload mass carried by booster version F9 v1.1\n"
      ]
    },
    {
      "cell_type": "code",
      "metadata": {
        "colab": {
          "base_uri": "https://localhost:8080/",
          "height": 95
        },
        "id": "c9ab7fe6-b18c-4a77-86b2-61c398c58c43",
        "outputId": "e53a0903-6532-44b3-b525-1d02c01298a9"
      },
      "outputs": [
        {
          "output_type": "stream",
          "name": "stdout",
          "text": [
            " * sqlite:///my_data1.db\n",
            "Done.\n"
          ]
        },
        {
          "output_type": "execute_result",
          "data": {
            "text/plain": [
              "[(340.4,)]"
            ],
            "text/html": [
              "<table>\n",
              "    <tr>\n",
              "        <th>AVG(PAYLOAD_MASS__KG_)</th>\n",
              "    </tr>\n",
              "    <tr>\n",
              "        <td>340.4</td>\n",
              "    </tr>\n",
              "</table>"
            ]
          },
          "metadata": {},
          "execution_count": 12
        }
      ],
      "source": [
        "%%sql\n",
        "SELECT AVG(PAYLOAD_MASS__KG_)\n",
        "FROM SPACEXTBL\n",
        "WHERE Booster_Version LIKE 'F9 v1.0%'"
      ],
      "execution_count": null
    },
    {
      "cell_type": "markdown",
      "metadata": {
        "id": "daf51f8c-68ab-4bec-9e00-f0816f7afe69"
      },
      "source": [
        "### Task 5\n",
        "\n",
        "##### List the date when the first succesful landing outcome in ground pad was acheived.\n",
        "\n",
        "\n",
        "_Hint:Use min function_ \n"
      ]
    },
    {
      "cell_type": "code",
      "metadata": {
        "colab": {
          "base_uri": "https://localhost:8080/"
        },
        "id": "ccb7b534-8ad1-47d4-ad4f-fa0d44cb7d7f",
        "outputId": "337a273c-c112-446b-8e64-180922eee023"
      },
      "outputs": [
        {
          "output_type": "stream",
          "name": "stdout",
          "text": [
            " * sqlite:///my_data1.db\n",
            "(sqlite3.OperationalError) near \"Landing_Outcome\": syntax error\n",
            "[SQL: SELECT MIN(date) \n",
            "FROM SPACEXTBL\n",
            "WHERE like Landing_Outcome = 'Success (ground pad)';]\n",
            "(Background on this error at: http://sqlalche.me/e/e3q8)\n"
          ]
        }
      ],
      "source": [
        "%%sql\n",
        "SELECT MIN(date) \n",
        "FROM SPACEXTBL\n",
        "WHERE like Landing_Outcome = 'Success (ground pad)';"
      ],
      "execution_count": null
    },
    {
      "cell_type": "code",
      "source": [],
      "metadata": {
        "id": "z0GEmUM7O_f3"
      },
      "execution_count": null,
      "outputs": []
    },
    {
      "cell_type": "markdown",
      "metadata": {
        "id": "f3b0a30d-0c0e-4438-8ec8-94ff0bfa6241"
      },
      "source": [
        "### Task 6\n",
        "\n",
        "##### List the names of the boosters which have success in drone ship and have payload mass greater than 4000 but less than 6000\n"
      ]
    },
    {
      "cell_type": "code",
      "metadata": {
        "colab": {
          "base_uri": "https://localhost:8080/",
          "height": 1000
        },
        "id": "a8a46f10-b7c2-4c2c-836a-21e9289107c5",
        "outputId": "3b3ec8fd-5e5f-4d0a-d1d8-cdd92afe3d28"
      },
      "outputs": [
        {
          "output_type": "stream",
          "name": "stdout",
          "text": [
            " * sqlite:///my_data1.db\n",
            "Done.\n"
          ]
        },
        {
          "output_type": "execute_result",
          "data": {
            "text/plain": [
              "[('F9 v1.0  B0003',),\n",
              " ('F9 v1.0  B0004',),\n",
              " ('F9 v1.0  B0005',),\n",
              " ('F9 v1.0  B0006',),\n",
              " ('F9 v1.0  B0007',),\n",
              " ('F9 v1.1  B1003',),\n",
              " ('F9 v1.1',),\n",
              " ('F9 v1.1',),\n",
              " ('F9 v1.1',),\n",
              " ('F9 v1.1',),\n",
              " ('F9 v1.1',),\n",
              " ('F9 v1.1 B1011',),\n",
              " ('F9 v1.1 B1010',),\n",
              " ('F9 v1.1 B1012',),\n",
              " ('F9 v1.1 B1013',),\n",
              " ('F9 v1.1 B1014',),\n",
              " ('F9 v1.1 B1015',),\n",
              " ('F9 v1.1 B1016',),\n",
              " ('F9 v1.1 B1018',),\n",
              " ('F9 FT B1019',),\n",
              " ('F9 v1.1 B1017',),\n",
              " ('F9 FT B1020',),\n",
              " ('F9 FT B1021.1',),\n",
              " ('F9 FT B1022',),\n",
              " ('F9 FT B1023.1',),\n",
              " ('F9 FT B1024',),\n",
              " ('F9 FT B1025.1',),\n",
              " ('F9 FT B1026',),\n",
              " ('F9 FT B1029.1',),\n",
              " ('F9 FT B1031.1',),\n",
              " ('F9 FT B1030',),\n",
              " ('F9 FT  B1021.2',),\n",
              " ('F9 FT B1032.1',),\n",
              " ('F9 FT B1034',),\n",
              " ('F9 FT B1035.1',),\n",
              " ('F9 FT  B1029.2',),\n",
              " ('F9 FT B1036.1',),\n",
              " ('F9 FT B1037',),\n",
              " ('F9 B4 B1039.1',),\n",
              " ('F9 FT B1038.1',),\n",
              " ('F9 B4 B1040.1',),\n",
              " ('F9 B4 B1041.1',),\n",
              " ('F9 FT  B1031.2',),\n",
              " ('F9 B4 B1042.1',),\n",
              " ('F9 FT  B1035.2',),\n",
              " ('F9 FT  B1036.2',),\n",
              " ('F9 B4 B1043.1',),\n",
              " ('F9 FT  B1032.2',),\n",
              " ('F9 FT  B1038.2',),\n",
              " ('F9 B4 B1044',),\n",
              " ('F9 B4  B1041.2',),\n",
              " ('F9 B4  B1039.2',),\n",
              " ('F9 B4 B1045.1',),\n",
              " ('F9 B5  B1046.1',),\n",
              " ('F9 B4  B1043.2',),\n",
              " ('F9 B4  B1040.2',),\n",
              " ('F9 B4 B1045.2',),\n",
              " ('F9 B5B1047.1',),\n",
              " ('F9 B5B1048.1',),\n",
              " ('F9 B5 B1046.2',),\n",
              " ('F9 B5B1049.1',),\n",
              " ('F9 B5 B1048.2',),\n",
              " ('F9 B5 B1047.2',),\n",
              " ('F9 B5 B1046.3',),\n",
              " ('F9 B5B1050',),\n",
              " ('F9 B5B1054',),\n",
              " ('F9 B5 B1049.2',),\n",
              " ('F9 B5 B1048.3',),\n",
              " ('F9 B5B1051.1',),\n",
              " ('F9 B5B1056.1 ',),\n",
              " ('F9 B5 B1049.3',),\n",
              " ('F9 B5 B1051.2 ',),\n",
              " ('F9 B5 B1056.2 ',),\n",
              " ('F9 B5 B1047.3 ',),\n",
              " ('F9 B5 B1048.4',),\n",
              " ('F9 B5B1059.1',),\n",
              " ('F9 B5 B1056.3 ',),\n",
              " ('F9 B5 B1049.4',),\n",
              " ('F9 B5 B1046.4',),\n",
              " ('F9 B5 B1051.3',),\n",
              " ('F9 B5 B1056.4',),\n",
              " ('F9 B5 B1059.2',),\n",
              " ('F9 B5 B1048.5',),\n",
              " ('F9 B5 B1051.4',),\n",
              " ('F9 B5B1058.1 ',),\n",
              " ('F9 B5 B1049.5',),\n",
              " ('F9 B5 B1059.3',),\n",
              " ('F9 B5B1060.1',),\n",
              " ('F9 B5 B1058.2 ',),\n",
              " ('F9 B5 B1051.5',),\n",
              " ('F9 B5 B1049.6',),\n",
              " ('F9 B5 B1059.4',),\n",
              " ('F9 B5 B1060.2 ',),\n",
              " ('F9 B5 B1058.3 ',),\n",
              " ('F9 B5 B1051.6',),\n",
              " ('F9 B5 B1060.3',),\n",
              " ('F9 B5B1062.1',),\n",
              " ('F9 B5B1061.1 ',),\n",
              " ('F9 B5B1063.1',),\n",
              " ('F9 B5 B1049.7 ',),\n",
              " ('F9 B5 B1058.4 ',)]"
            ],
            "text/html": [
              "<table>\n",
              "    <tr>\n",
              "        <th>Booster_Version</th>\n",
              "    </tr>\n",
              "    <tr>\n",
              "        <td>F9 v1.0  B0003</td>\n",
              "    </tr>\n",
              "    <tr>\n",
              "        <td>F9 v1.0  B0004</td>\n",
              "    </tr>\n",
              "    <tr>\n",
              "        <td>F9 v1.0  B0005</td>\n",
              "    </tr>\n",
              "    <tr>\n",
              "        <td>F9 v1.0  B0006</td>\n",
              "    </tr>\n",
              "    <tr>\n",
              "        <td>F9 v1.0  B0007</td>\n",
              "    </tr>\n",
              "    <tr>\n",
              "        <td>F9 v1.1  B1003</td>\n",
              "    </tr>\n",
              "    <tr>\n",
              "        <td>F9 v1.1</td>\n",
              "    </tr>\n",
              "    <tr>\n",
              "        <td>F9 v1.1</td>\n",
              "    </tr>\n",
              "    <tr>\n",
              "        <td>F9 v1.1</td>\n",
              "    </tr>\n",
              "    <tr>\n",
              "        <td>F9 v1.1</td>\n",
              "    </tr>\n",
              "    <tr>\n",
              "        <td>F9 v1.1</td>\n",
              "    </tr>\n",
              "    <tr>\n",
              "        <td>F9 v1.1 B1011</td>\n",
              "    </tr>\n",
              "    <tr>\n",
              "        <td>F9 v1.1 B1010</td>\n",
              "    </tr>\n",
              "    <tr>\n",
              "        <td>F9 v1.1 B1012</td>\n",
              "    </tr>\n",
              "    <tr>\n",
              "        <td>F9 v1.1 B1013</td>\n",
              "    </tr>\n",
              "    <tr>\n",
              "        <td>F9 v1.1 B1014</td>\n",
              "    </tr>\n",
              "    <tr>\n",
              "        <td>F9 v1.1 B1015</td>\n",
              "    </tr>\n",
              "    <tr>\n",
              "        <td>F9 v1.1 B1016</td>\n",
              "    </tr>\n",
              "    <tr>\n",
              "        <td>F9 v1.1 B1018</td>\n",
              "    </tr>\n",
              "    <tr>\n",
              "        <td>F9 FT B1019</td>\n",
              "    </tr>\n",
              "    <tr>\n",
              "        <td>F9 v1.1 B1017</td>\n",
              "    </tr>\n",
              "    <tr>\n",
              "        <td>F9 FT B1020</td>\n",
              "    </tr>\n",
              "    <tr>\n",
              "        <td>F9 FT B1021.1</td>\n",
              "    </tr>\n",
              "    <tr>\n",
              "        <td>F9 FT B1022</td>\n",
              "    </tr>\n",
              "    <tr>\n",
              "        <td>F9 FT B1023.1</td>\n",
              "    </tr>\n",
              "    <tr>\n",
              "        <td>F9 FT B1024</td>\n",
              "    </tr>\n",
              "    <tr>\n",
              "        <td>F9 FT B1025.1</td>\n",
              "    </tr>\n",
              "    <tr>\n",
              "        <td>F9 FT B1026</td>\n",
              "    </tr>\n",
              "    <tr>\n",
              "        <td>F9 FT B1029.1</td>\n",
              "    </tr>\n",
              "    <tr>\n",
              "        <td>F9 FT B1031.1</td>\n",
              "    </tr>\n",
              "    <tr>\n",
              "        <td>F9 FT B1030</td>\n",
              "    </tr>\n",
              "    <tr>\n",
              "        <td>F9 FT  B1021.2</td>\n",
              "    </tr>\n",
              "    <tr>\n",
              "        <td>F9 FT B1032.1</td>\n",
              "    </tr>\n",
              "    <tr>\n",
              "        <td>F9 FT B1034</td>\n",
              "    </tr>\n",
              "    <tr>\n",
              "        <td>F9 FT B1035.1</td>\n",
              "    </tr>\n",
              "    <tr>\n",
              "        <td>F9 FT  B1029.2</td>\n",
              "    </tr>\n",
              "    <tr>\n",
              "        <td>F9 FT B1036.1</td>\n",
              "    </tr>\n",
              "    <tr>\n",
              "        <td>F9 FT B1037</td>\n",
              "    </tr>\n",
              "    <tr>\n",
              "        <td>F9 B4 B1039.1</td>\n",
              "    </tr>\n",
              "    <tr>\n",
              "        <td>F9 FT B1038.1</td>\n",
              "    </tr>\n",
              "    <tr>\n",
              "        <td>F9 B4 B1040.1</td>\n",
              "    </tr>\n",
              "    <tr>\n",
              "        <td>F9 B4 B1041.1</td>\n",
              "    </tr>\n",
              "    <tr>\n",
              "        <td>F9 FT  B1031.2</td>\n",
              "    </tr>\n",
              "    <tr>\n",
              "        <td>F9 B4 B1042.1</td>\n",
              "    </tr>\n",
              "    <tr>\n",
              "        <td>F9 FT  B1035.2</td>\n",
              "    </tr>\n",
              "    <tr>\n",
              "        <td>F9 FT  B1036.2</td>\n",
              "    </tr>\n",
              "    <tr>\n",
              "        <td>F9 B4 B1043.1</td>\n",
              "    </tr>\n",
              "    <tr>\n",
              "        <td>F9 FT  B1032.2</td>\n",
              "    </tr>\n",
              "    <tr>\n",
              "        <td>F9 FT  B1038.2</td>\n",
              "    </tr>\n",
              "    <tr>\n",
              "        <td>F9 B4 B1044</td>\n",
              "    </tr>\n",
              "    <tr>\n",
              "        <td>F9 B4  B1041.2</td>\n",
              "    </tr>\n",
              "    <tr>\n",
              "        <td>F9 B4  B1039.2</td>\n",
              "    </tr>\n",
              "    <tr>\n",
              "        <td>F9 B4 B1045.1</td>\n",
              "    </tr>\n",
              "    <tr>\n",
              "        <td>F9 B5  B1046.1</td>\n",
              "    </tr>\n",
              "    <tr>\n",
              "        <td>F9 B4  B1043.2</td>\n",
              "    </tr>\n",
              "    <tr>\n",
              "        <td>F9 B4  B1040.2</td>\n",
              "    </tr>\n",
              "    <tr>\n",
              "        <td>F9 B4 B1045.2</td>\n",
              "    </tr>\n",
              "    <tr>\n",
              "        <td>F9 B5B1047.1</td>\n",
              "    </tr>\n",
              "    <tr>\n",
              "        <td>F9 B5B1048.1</td>\n",
              "    </tr>\n",
              "    <tr>\n",
              "        <td>F9 B5 B1046.2</td>\n",
              "    </tr>\n",
              "    <tr>\n",
              "        <td>F9 B5B1049.1</td>\n",
              "    </tr>\n",
              "    <tr>\n",
              "        <td>F9 B5 B1048.2</td>\n",
              "    </tr>\n",
              "    <tr>\n",
              "        <td>F9 B5 B1047.2</td>\n",
              "    </tr>\n",
              "    <tr>\n",
              "        <td>F9 B5 B1046.3</td>\n",
              "    </tr>\n",
              "    <tr>\n",
              "        <td>F9 B5B1050</td>\n",
              "    </tr>\n",
              "    <tr>\n",
              "        <td>F9 B5B1054</td>\n",
              "    </tr>\n",
              "    <tr>\n",
              "        <td>F9 B5 B1049.2</td>\n",
              "    </tr>\n",
              "    <tr>\n",
              "        <td>F9 B5 B1048.3</td>\n",
              "    </tr>\n",
              "    <tr>\n",
              "        <td>F9 B5B1051.1</td>\n",
              "    </tr>\n",
              "    <tr>\n",
              "        <td>F9 B5B1056.1 </td>\n",
              "    </tr>\n",
              "    <tr>\n",
              "        <td>F9 B5 B1049.3</td>\n",
              "    </tr>\n",
              "    <tr>\n",
              "        <td>F9 B5 B1051.2 </td>\n",
              "    </tr>\n",
              "    <tr>\n",
              "        <td>F9 B5 B1056.2 </td>\n",
              "    </tr>\n",
              "    <tr>\n",
              "        <td>F9 B5 B1047.3 </td>\n",
              "    </tr>\n",
              "    <tr>\n",
              "        <td>F9 B5 B1048.4</td>\n",
              "    </tr>\n",
              "    <tr>\n",
              "        <td>F9 B5B1059.1</td>\n",
              "    </tr>\n",
              "    <tr>\n",
              "        <td>F9 B5 B1056.3 </td>\n",
              "    </tr>\n",
              "    <tr>\n",
              "        <td>F9 B5 B1049.4</td>\n",
              "    </tr>\n",
              "    <tr>\n",
              "        <td>F9 B5 B1046.4</td>\n",
              "    </tr>\n",
              "    <tr>\n",
              "        <td>F9 B5 B1051.3</td>\n",
              "    </tr>\n",
              "    <tr>\n",
              "        <td>F9 B5 B1056.4</td>\n",
              "    </tr>\n",
              "    <tr>\n",
              "        <td>F9 B5 B1059.2</td>\n",
              "    </tr>\n",
              "    <tr>\n",
              "        <td>F9 B5 B1048.5</td>\n",
              "    </tr>\n",
              "    <tr>\n",
              "        <td>F9 B5 B1051.4</td>\n",
              "    </tr>\n",
              "    <tr>\n",
              "        <td>F9 B5B1058.1 </td>\n",
              "    </tr>\n",
              "    <tr>\n",
              "        <td>F9 B5 B1049.5</td>\n",
              "    </tr>\n",
              "    <tr>\n",
              "        <td>F9 B5 B1059.3</td>\n",
              "    </tr>\n",
              "    <tr>\n",
              "        <td>F9 B5B1060.1</td>\n",
              "    </tr>\n",
              "    <tr>\n",
              "        <td>F9 B5 B1058.2 </td>\n",
              "    </tr>\n",
              "    <tr>\n",
              "        <td>F9 B5 B1051.5</td>\n",
              "    </tr>\n",
              "    <tr>\n",
              "        <td>F9 B5 B1049.6</td>\n",
              "    </tr>\n",
              "    <tr>\n",
              "        <td>F9 B5 B1059.4</td>\n",
              "    </tr>\n",
              "    <tr>\n",
              "        <td>F9 B5 B1060.2 </td>\n",
              "    </tr>\n",
              "    <tr>\n",
              "        <td>F9 B5 B1058.3 </td>\n",
              "    </tr>\n",
              "    <tr>\n",
              "        <td>F9 B5 B1051.6</td>\n",
              "    </tr>\n",
              "    <tr>\n",
              "        <td>F9 B5 B1060.3</td>\n",
              "    </tr>\n",
              "    <tr>\n",
              "        <td>F9 B5B1062.1</td>\n",
              "    </tr>\n",
              "    <tr>\n",
              "        <td>F9 B5B1061.1 </td>\n",
              "    </tr>\n",
              "    <tr>\n",
              "        <td>F9 B5B1063.1</td>\n",
              "    </tr>\n",
              "    <tr>\n",
              "        <td>F9 B5 B1049.7 </td>\n",
              "    </tr>\n",
              "    <tr>\n",
              "        <td>F9 B5 B1058.4 </td>\n",
              "    </tr>\n",
              "</table>"
            ]
          },
          "metadata": {},
          "execution_count": 27
        }
      ],
      "source": [
        "%%sql\n",
        "SELECT Booster_Version\n",
        "FROM SPACEXTBL\n",
        "WHERE   4000 > PAYLOAD_MASS__KG_ < 6000"
      ],
      "execution_count": null
    },
    {
      "cell_type": "markdown",
      "metadata": {
        "id": "3b2e99ee-3df2-4059-93fd-0397c93e87a1"
      },
      "source": [
        "### Task 7\n",
        "\n",
        "\n",
        "\n",
        "\n",
        "##### List the total number of successful and failure mission outcomes\n"
      ]
    },
    {
      "cell_type": "code",
      "metadata": {
        "colab": {
          "base_uri": "https://localhost:8080/",
          "height": 158
        },
        "id": "33a28c37-4c70-4a2f-a863-c711e5685b29",
        "outputId": "e367a04a-a443-4168-9baf-700cfdb33d20"
      },
      "outputs": [
        {
          "output_type": "stream",
          "name": "stdout",
          "text": [
            " * sqlite:///my_data1.db\n",
            "Done.\n"
          ]
        },
        {
          "output_type": "execute_result",
          "data": {
            "text/plain": [
              "[('Failure (in flight)', 1),\n",
              " ('Success', 98),\n",
              " ('Success ', 1),\n",
              " ('Success (payload status unclear)', 1)]"
            ],
            "text/html": [
              "<table>\n",
              "    <tr>\n",
              "        <th>Mission_Outcome</th>\n",
              "        <th>TOTAL_NUMBER</th>\n",
              "    </tr>\n",
              "    <tr>\n",
              "        <td>Failure (in flight)</td>\n",
              "        <td>1</td>\n",
              "    </tr>\n",
              "    <tr>\n",
              "        <td>Success</td>\n",
              "        <td>98</td>\n",
              "    </tr>\n",
              "    <tr>\n",
              "        <td>Success </td>\n",
              "        <td>1</td>\n",
              "    </tr>\n",
              "    <tr>\n",
              "        <td>Success (payload status unclear)</td>\n",
              "        <td>1</td>\n",
              "    </tr>\n",
              "</table>"
            ]
          },
          "metadata": {},
          "execution_count": 28
        }
      ],
      "source": [
        "%%sql\n",
        "SELECT MISSION_OUTCOME, COUNT(MISSION_OUTCOME) AS TOTAL_NUMBER\n",
        "FROM SPACEXTBL\n",
        "GROUP BY MISSION_OUTCOME;"
      ],
      "execution_count": null
    },
    {
      "cell_type": "markdown",
      "metadata": {
        "id": "660e7f9f-6936-4b84-b419-ca94c04f99e2"
      },
      "source": [
        "### Task 8\n",
        "\n",
        "\n",
        "\n",
        "##### List the   names of the booster_versions which have carried the maximum payload mass. Use a subquery\n"
      ]
    },
    {
      "cell_type": "code",
      "metadata": {
        "colab": {
          "base_uri": "https://localhost:8080/",
          "height": 326
        },
        "id": "c3d08631-cbc4-42f1-aa3a-d68e2edad72c",
        "outputId": "59485880-c90a-4059-ad93-db156d0ddcdf"
      },
      "outputs": [
        {
          "output_type": "stream",
          "name": "stdout",
          "text": [
            " * sqlite:///my_data1.db\n",
            "Done.\n"
          ]
        },
        {
          "output_type": "execute_result",
          "data": {
            "text/plain": [
              "[('F9 B5 B1048.4',),\n",
              " ('F9 B5 B1049.4',),\n",
              " ('F9 B5 B1051.3',),\n",
              " ('F9 B5 B1056.4',),\n",
              " ('F9 B5 B1048.5',),\n",
              " ('F9 B5 B1051.4',),\n",
              " ('F9 B5 B1049.5',),\n",
              " ('F9 B5 B1060.2 ',),\n",
              " ('F9 B5 B1058.3 ',),\n",
              " ('F9 B5 B1051.6',),\n",
              " ('F9 B5 B1060.3',),\n",
              " ('F9 B5 B1049.7 ',)]"
            ],
            "text/html": [
              "<table>\n",
              "    <tr>\n",
              "        <th>Booster_Version</th>\n",
              "    </tr>\n",
              "    <tr>\n",
              "        <td>F9 B5 B1048.4</td>\n",
              "    </tr>\n",
              "    <tr>\n",
              "        <td>F9 B5 B1049.4</td>\n",
              "    </tr>\n",
              "    <tr>\n",
              "        <td>F9 B5 B1051.3</td>\n",
              "    </tr>\n",
              "    <tr>\n",
              "        <td>F9 B5 B1056.4</td>\n",
              "    </tr>\n",
              "    <tr>\n",
              "        <td>F9 B5 B1048.5</td>\n",
              "    </tr>\n",
              "    <tr>\n",
              "        <td>F9 B5 B1051.4</td>\n",
              "    </tr>\n",
              "    <tr>\n",
              "        <td>F9 B5 B1049.5</td>\n",
              "    </tr>\n",
              "    <tr>\n",
              "        <td>F9 B5 B1060.2 </td>\n",
              "    </tr>\n",
              "    <tr>\n",
              "        <td>F9 B5 B1058.3 </td>\n",
              "    </tr>\n",
              "    <tr>\n",
              "        <td>F9 B5 B1051.6</td>\n",
              "    </tr>\n",
              "    <tr>\n",
              "        <td>F9 B5 B1060.3</td>\n",
              "    </tr>\n",
              "    <tr>\n",
              "        <td>F9 B5 B1049.7 </td>\n",
              "    </tr>\n",
              "</table>"
            ]
          },
          "metadata": {},
          "execution_count": 30
        }
      ],
      "source": [
        "%%sql\n",
        "select Booster_Version\n",
        "FROM SPACEXTBL\n",
        "WHERE PAYLOAD_MASS__KG_ = (SELECT MAX(PAYLOAD_MASS__KG_) FROM SPACEXTBL)"
      ],
      "execution_count": null
    },
    {
      "cell_type": "markdown",
      "metadata": {
        "id": "008f7c68-5946-43c4-9945-1a45e603eb35"
      },
      "source": [
        "### Task 9\n",
        "\n",
        "\n",
        "##### List the records which will display the month names, failure landing_outcomes in drone ship ,booster versions, launch_site for the months in year 2015.\n",
        "\n",
        "**Note: SQLLite does not support monthnames. So you need to use  substr(Date, 4, 2) as month to get the months and substr(Date,7,4)='2015' for year.**\n"
      ]
    },
    {
      "cell_type": "code",
      "metadata": {
        "colab": {
          "base_uri": "https://localhost:8080/"
        },
        "id": "66c15b1b-da4b-4951-8d7c-ac8df75836fc",
        "outputId": "b29546c6-30d5-47cb-eec1-6db4d60fec7e"
      },
      "outputs": [
        {
          "output_type": "stream",
          "name": "stdout",
          "text": [
            " * sqlite:///my_data1.db\n",
            "(sqlite3.OperationalError) no such column: LANDING__OUTCOME\n",
            "[SQL: SELECT LANDING__OUTCOME, BOOSTER_VERSION, LAUNCH_SITE\n",
            "FROM SPACEXTBL\n",
            "WHERE Landing__Outcome = 'Failure (drone ship)'\n",
            "    AND YEAR(DATE) = 2015;]\n",
            "(Background on this error at: http://sqlalche.me/e/e3q8)\n"
          ]
        }
      ],
      "source": [
        "%%sql\n",
        "SELECT LANDING__OUTCOME, BOOSTER_VERSION, LAUNCH_SITE\n",
        "FROM SPACEXTBL\n",
        "WHERE Landing__Outcome = 'Failure (drone ship)'\n",
        "    AND YEAR(DATE) = 2015;"
      ],
      "execution_count": null
    },
    {
      "cell_type": "markdown",
      "metadata": {
        "id": "930a3560-cc1c-4587-866a-7bde5982c648"
      },
      "source": [
        "### Task 10\n",
        "\n",
        "\n",
        "\n",
        "\n",
        "##### Rank the  count of  successful landing_outcomes between the date 04-06-2010 and 20-03-2017 in descending order.\n"
      ]
    },
    {
      "cell_type": "code",
      "metadata": {
        "colab": {
          "base_uri": "https://localhost:8080/"
        },
        "id": "d876bcee-cb59-42c0-a747-95560ef3f892",
        "outputId": "776d3514-8f88-40fb-d29c-0835f13a37f0"
      },
      "outputs": [
        {
          "output_type": "stream",
          "name": "stdout",
          "text": [
            " * sqlite:///my_data1.db\n",
            "(sqlite3.OperationalError) no such column: LANDING__OUTCOME\n",
            "[SQL: SELECT LANDING__OUTCOME, COUNT(LANDING__OUTCOME) AS TOTAL_NUMBER\n",
            "FROM SPACEXTBL\n",
            "WHERE DATE BETWEEN '2010-06-04' AND '2017-03-20'\n",
            "GROUP BY LANDING__OUTCOME\n",
            "ORDER BY TOTAL_NUMBER DESC]\n",
            "(Background on this error at: http://sqlalche.me/e/e3q8)\n"
          ]
        }
      ],
      "source": [
        "%%sql\n",
        "SELECT LANDING__OUTCOME, COUNT(LANDING__OUTCOME) AS TOTAL_NUMBER\n",
        "FROM SPACEXTBL\n",
        "WHERE DATE BETWEEN '2010-06-04' AND '2017-03-20'\n",
        "GROUP BY LANDING__OUTCOME\n",
        "ORDER BY TOTAL_NUMBER DESC"
      ],
      "execution_count": null
    },
    {
      "cell_type": "markdown",
      "metadata": {
        "id": "48ad1afc-59f0-47a6-ae2e-7b6ff90999dc"
      },
      "source": [
        "### Reference Links\n",
        "\n",
        "* <a href =\"https://cf-courses-data.s3.us.cloud-object-storage.appdomain.cloud/IBMDeveloperSkillsNetwork-DB0201EN-SkillsNetwork/labs/Labs_Coursera_V5/labs/Lab%20-%20String%20Patterns%20-%20Sorting%20-%20Grouping/instructional-labs.md.html?origin=www.coursera.org\">Hands-on Lab : String Patterns, Sorting and Grouping</a>  \n",
        "\n",
        "*  <a  href=\"https://cf-courses-data.s3.us.cloud-object-storage.appdomain.cloud/IBMDeveloperSkillsNetwork-DB0201EN-SkillsNetwork/labs/Labs_Coursera_V5/labs/Lab%20-%20Built-in%20functions%20/Hands-on_Lab__Built-in_Functions.md.html?origin=www.coursera.org\">Hands-on Lab: Built-in functions</a>\n",
        "\n",
        "*  <a  href=\"https://cf-courses-data.s3.us.cloud-object-storage.appdomain.cloud/IBMDeveloperSkillsNetwork-DB0201EN-SkillsNetwork/labs/Labs_Coursera_V5/labs/Lab%20-%20Sub-queries%20and%20Nested%20SELECTs%20/instructional-labs.md.html?origin=www.coursera.org\">Hands-on Lab : Sub-queries and Nested SELECT Statements</a>\n",
        "\n",
        "*   <a href=\"https://cf-courses-data.s3.us.cloud-object-storage.appdomain.cloud/IBMDeveloperSkillsNetwork-DB0201EN-SkillsNetwork/labs/Module%205/DB0201EN-Week3-1-3-SQLmagic.ipynb\">Hands-on Tutorial: Accessing Databases with SQL magic</a>\n",
        "\n",
        "*  <a href= \"https://cf-courses-data.s3.us.cloud-object-storage.appdomain.cloud/IBMDeveloperSkillsNetwork-DB0201EN-SkillsNetwork/labs/Module%205/DB0201EN-Week3-1-4-Analyzing.ipynb\">Hands-on Lab: Analyzing a real World Data Set</a>\n",
        "\n",
        "\n"
      ]
    },
    {
      "cell_type": "markdown",
      "metadata": {
        "id": "ec1c809f-d209-41d5-8b22-76f7cd59bb53"
      },
      "source": [
        "## Author(s)\n",
        "\n",
        "<h4> Lakshmi Holla </h4>\n"
      ]
    },
    {
      "cell_type": "markdown",
      "metadata": {
        "id": "bce3d843-e6cc-49de-a788-a31a3de09872"
      },
      "source": [
        "## Other Contributors\n",
        "\n",
        "<h4> Rav Ahuja </h4>\n"
      ]
    },
    {
      "cell_type": "markdown",
      "metadata": {
        "id": "2a98a3d8-e49d-496a-bc70-e7f473580c66"
      },
      "source": [
        "## Change log\n",
        "| Date | Version | Changed by | Change Description |\n",
        "|------|--------|--------|---------|\n",
        "| 2021-07-09 | 0.2 |Lakshmi Holla | Changes made in magic sql|\n",
        "| 2021-05-20 | 0.1 |Lakshmi Holla | Created Initial Version |\n"
      ]
    },
    {
      "cell_type": "markdown",
      "metadata": {
        "id": "76a7ca44-fa0a-45b7-a6bd-a8a4f0df1eec"
      },
      "source": [
        "## <h3 align=\"center\"> © IBM Corporation 2021. All rights reserved. <h3/>\n"
      ]
    }
  ],
  "metadata": {
    "kernelspec": {
      "display_name": "Python",
      "language": "python",
      "name": "conda-env-python-py"
    },
    "language_info": {
      "name": ""
    },
    "colab": {
      "provenance": []
    }
  },
  "nbformat": 4,
  "nbformat_minor": 0
}